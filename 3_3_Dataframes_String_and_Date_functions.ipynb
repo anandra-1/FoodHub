{
  "nbformat": 4,
  "nbformat_minor": 0,
  "metadata": {
    "colab": {
      "provenance": [],
      "authorship_tag": "ABX9TyPvSW16eF/LH/OBeApR1Zpv",
      "include_colab_link": true
    },
    "kernelspec": {
      "name": "python3",
      "display_name": "Python 3"
    },
    "language_info": {
      "name": "python"
    }
  },
  "cells": [
    {
      "cell_type": "markdown",
      "metadata": {
        "id": "view-in-github",
        "colab_type": "text"
      },
      "source": [
        "<a href=\"https://colab.research.google.com/github/anandra-1/python-project/blob/main/3_3_Dataframes_String_and_Date_functions.ipynb\" target=\"_parent\"><img src=\"https://colab.research.google.com/assets/colab-badge.svg\" alt=\"Open In Colab\"/></a>"
      ]
    },
    {
      "cell_type": "markdown",
      "source": [
        "# .str Accessor:"
      ],
      "metadata": {
        "id": "c8eXMT8XxI1Z"
      }
    },
    {
      "cell_type": "code",
      "source": [
        "# Importing pandas\n",
        "import pandas as pd\n",
        "\n",
        "# Sample DataFrame with a string column\n",
        "data = {'text': ['apple', 'Banana', 'Cherry', 'orange']}\n",
        "df = pd.DataFrame(data)\n",
        "\n",
        "# 1. str.lower(): Converts all characters to lowercase.\n",
        "df['lowercase'] = df['text'].str.lower()\n",
        "\n",
        "# 2. str.upper(): Converts all characters to uppercase.\n",
        "df['uppercase'] = df['text'].str.upper()\n",
        "\n",
        "# 3. str.title(): Converts the first character of each word to uppercase and the rest to lowercase.\n",
        "df['title_case'] = df['text'].str.title()\n",
        "\n",
        "# 4. str.capitalize(): Converts the first character to uppercase and the rest to lowercase.\n",
        "df['capitalized'] = df['text'].str.capitalize()\n",
        "\n",
        "# 5. str.strip(): Removes leading and trailing whitespace.\n",
        "df['stripped'] = df['text'].str.strip()\n",
        "\n",
        "# 6. str.replace(old, new): Replaces occurrences of a substring with another substring.\n",
        "df['replaced'] = df['text'].str.replace('a', '@')\n",
        "\n",
        "# 7. str.contains(pattern): Checks if each string contains a pattern.\n",
        "df['contains_a'] = df['text'].str.contains('a')\n",
        "\n",
        "# 8. str.startswith(prefix): Checks if each string starts with a specified prefix.\n",
        "df['starts_with_A'] = df['text'].str.startswith('A')\n",
        "\n",
        "# 9. str.endswith(suffix): Checks if each string ends with a specified suffix.\n",
        "df['ends_with_e'] = df['text'].str.endswith('e')\n",
        "\n",
        "# 10. str.split(sep): Splits each string at the specified separator.\n",
        "df['split'] = df['text'].str.split('a')\n",
        "\n",
        "# 11. str.get(i): Retrieves the character at the specified position.\n",
        "df['first_char'] = df['text'].str.get(0)\n",
        "\n",
        "# 12. str.len(): Returns the length of each string.\n",
        "df['length'] = df['text'].str.len()\n",
        "\n",
        "# 13. str.find(substring): Returns the lowest index of the substring if found, else -1.\n",
        "df['find_a'] = df['text'].str.find('a')\n",
        "\n",
        "# 14. str.count(substring): Counts occurrences of the substring.\n",
        "df['count_a'] = df['text'].str.count('a')\n",
        "\n",
        "# 15. str.isalpha(): Checks if all characters are alphabetic.\n",
        "df['is_alpha'] = df['text'].str.isalpha()\n",
        "\n",
        "# 16. str.isdigit(): Checks if all characters are digits.\n",
        "df['is_digit'] = df['text'].str.isdigit()\n",
        "\n",
        "# 17. str.isnumeric(): Checks if all characters are numeric.\n",
        "df['is_numeric'] = df['text'].str.isnumeric()\n",
        "\n",
        "# 18. str.islower(): Checks if all characters are lowercase.\n",
        "df['is_lower'] = df['text'].str.islower()\n",
        "\n",
        "# 19. str.isupper(): Checks if all characters are uppercase.\n",
        "df['is_upper'] = df['text'].str.isupper()\n",
        "\n",
        "# 20. str.isalnum(): Checks if all characters are alphanumeric.\n",
        "df['is_alnum'] = df['text'].str.isalnum()\n",
        "\n",
        "# 21. str.isdecimal(): Checks if all characters are decimal characters.\n",
        "df['is_decimal'] = df['text'].str.isdecimal()\n",
        "\n",
        "# 22. str.isidentifier(): Checks if each string is a valid identifier.\n",
        "df['is_identifier'] = df['text'].str.isidentifier()\n",
        "\n",
        "\n",
        "# Show the final DataFrame with all new columns\n",
        "print(df)"
      ],
      "metadata": {
        "id": "SooXLpkS0v0O"
      },
      "execution_count": null,
      "outputs": []
    },
    {
      "cell_type": "markdown",
      "source": [
        "# .dt Accessor:"
      ],
      "metadata": {
        "id": "A_sRvoFEzF6P"
      }
    },
    {
      "cell_type": "code",
      "source": [
        "# Importing pandas\n",
        "import pandas as pd\n",
        "\n",
        "# Sample DataFrame with a datetime column\n",
        "data = {'date': ['2023-01-15', '2024-05-20', '2025-09-30']}\n",
        "df = pd.DataFrame(data)\n",
        "df['date'] = pd.to_datetime(df['date'])\n",
        "\n",
        "# 1. dt.year: Extracts the year from each datetime.\n",
        "df['year'] = df['date'].dt.year\n",
        "\n",
        "# 2. dt.month: Extracts the month from each datetime.\n",
        "df['month'] = df['date'].dt.month\n",
        "\n",
        "# 3. dt.day: Extracts the day of the month from each datetime.\n",
        "df['day'] = df['date'].dt.day\n",
        "\n",
        "# 4. dt.weekday: Extracts the day of the week as an integer (Monday=0, Sunday=6).\n",
        "df['weekday'] = df['date'].dt.weekday\n",
        "\n",
        "# 5. dt.day_name(): Extracts the day of the week as a string.\n",
        "df['day_name'] = df['date'].dt.day_name()\n",
        "\n",
        "# 6. dt.month_name(): Extracts the month name as a string.\n",
        "df['month_name'] = df['date'].dt.month_name()\n",
        "\n",
        "# 7. dt.is_month_end: Checks if the date is the last day of the month.\n",
        "df['is_month_end'] = df['date'].dt.is_month_end\n",
        "\n",
        "# 8. dt.is_month_start: Checks if the date is the first day of the month.\n",
        "df['is_month_start'] = df['date'].dt.is_month_start\n",
        "\n",
        "# 9. dt.is_quarter_end: Checks if the date is the last day of the quarter.\n",
        "df['is_quarter_end'] = df['date'].dt.is_quarter_end\n",
        "\n",
        "# 10. dt.is_quarter_start: Checks if the date is the first day of the quarter.\n",
        "df['is_quarter_start'] = df['date'].dt.is_quarter_start\n",
        "\n",
        "# 11. dt.is_year_end: Checks if the date is the last day of the year.\n",
        "df['is_year_end'] = df['date'].dt.is_year_end\n",
        "\n",
        "# 12. dt.is_year_start: Checks if the date is the first day of the year.\n",
        "df['is_year_start'] = df['date'].dt.is_year_start\n",
        "\n",
        "# 13. dt.quarter: Extracts the quarter of the year (1-4).\n",
        "df['quarter'] = df['date'].dt.quarter\n",
        "\n",
        "# 14. dt.is_leap_year: Checks if the year is a leap year.\n",
        "df['is_leap_year'] = df['date'].dt.is_leap_year\n",
        "\n",
        "# 15. dt.days_in_month: Returns the number of days in the month.\n",
        "df['days_in_month'] = df['date'].dt.days_in_month\n",
        "\n",
        "# 16. dt.isocalendar(): Returns a DataFrame with ISO year, ISO week number, and ISO weekday.\n",
        "df[['iso_year', 'iso_week', 'iso_weekday']] = df['date'].dt.isocalendar()\n",
        "\n",
        "# 17. dt.to_period(freq): Converts the datetime to a Period with the specified frequency.\n",
        "df['period'] = df['date'].dt.to_period('M')\n",
        "\n",
        "# 18. dt.to_pydatetime(): Converts the datetime to a Python datetime object.\n",
        "df['pydatetime'] = df['date'].dt.to_pydatetime()\n",
        "\n",
        "# 19. dt.tz_localize(tz): Localizes the datetime to the specified timezone.\n",
        "df['date_utc'] = df['date'].dt.tz_localize('UTC')\n",
        "\n",
        "# 20. dt.tz_convert(tz): Converts the datetime to the specified timezone.\n",
        "df['date_pst'] = df['date_utc'].dt.tz_convert('US/Pacific')\n",
        "\n",
        "# 21. dt.floor(freq): Floors the datetime to the specified frequency.\n",
        "df['date_floor'] = df['date'].dt.floor('D')\n",
        "\n",
        "# 22. dt.ceil(freq): Ceils the datetime to the specified frequency.\n",
        "df['date_ceil'] = df['date'].dt.ceil('D')\n",
        "\n",
        "# 23. dt.round(freq): Rounds the datetime to the specified frequency.\n",
        "df['date_round'] = df['date'].dt.round('D')\n",
        "\n",
        "# 24. dt.total_seconds(): Returns the total number of seconds for the timedelta.\n",
        "df['timedelta'] = pd.to_datetime(df['date']) - pd.to_datetime('2023-01-01')\n",
        "df['total_seconds'] = df['timedelta'].dt.total_seconds()\n",
        "\n",
        "# Display the DataFrame\n",
        "print(df)"
      ],
      "metadata": {
        "colab": {
          "base_uri": "https://localhost:8080/"
        },
        "id": "iAgwEetXxD5h",
        "outputId": "61833788-7f41-4482-be06-5b9e078daf98"
      },
      "execution_count": null,
      "outputs": [
        {
          "output_type": "stream",
          "name": "stdout",
          "text": [
            "        date  year  month  day  weekday day_name month_name  is_month_end  \\\n",
            "0 2023-01-15  2023      1   15        6   Sunday    January         False   \n",
            "1 2024-05-20  2024      5   20        0   Monday        May         False   \n",
            "2 2025-09-30  2025      9   30        1  Tuesday  September          True   \n",
            "\n",
            "   is_month_start  is_quarter_end  ...  iso_weekday   period  pydatetime  \\\n",
            "0           False           False  ...            7  2023-01  2023-01-15   \n",
            "1           False           False  ...            1  2024-05  2024-05-20   \n",
            "2           False            True  ...            2  2025-09  2025-09-30   \n",
            "\n",
            "                   date_utc                  date_pst  date_floor  date_ceil  \\\n",
            "0 2023-01-15 00:00:00+00:00 2023-01-14 16:00:00-08:00  2023-01-15 2023-01-15   \n",
            "1 2024-05-20 00:00:00+00:00 2024-05-19 17:00:00-07:00  2024-05-20 2024-05-20   \n",
            "2 2025-09-30 00:00:00+00:00 2025-09-29 17:00:00-07:00  2025-09-30 2025-09-30   \n",
            "\n",
            "   date_round  timedelta total_seconds  \n",
            "0  2023-01-15    14 days     1209600.0  \n",
            "1  2024-05-20   505 days    43632000.0  \n",
            "2  2025-09-30  1003 days    86659200.0  \n",
            "\n",
            "[3 rows x 28 columns]\n"
          ]
        },
        {
          "output_type": "stream",
          "name": "stderr",
          "text": [
            "<ipython-input-4-6b935d6fa7a4>:61: FutureWarning: The behavior of DatetimeProperties.to_pydatetime is deprecated, in a future version this will return a Series containing python datetime objects instead of an ndarray. To retain the old behavior, call `np.array` on the result\n",
            "  df['pydatetime'] = df['date'].dt.to_pydatetime()\n"
          ]
        }
      ]
    },
    {
      "cell_type": "markdown",
      "source": [
        "# .cat Accessor:"
      ],
      "metadata": {
        "id": "wnt9cnnizpLh"
      }
    },
    {
      "cell_type": "code",
      "source": [
        "# Importing pandas\n",
        "import pandas as pd\n",
        "\n",
        "# Sample DataFrame with a categorical column\n",
        "data = {'category': ['apple', 'banana', 'cherry', 'apple', 'banana']}\n",
        "df = pd.DataFrame(data)\n",
        "df['category'] = df['category'].astype('category')\n",
        "\n",
        "# 1. cat.categories: Returns the categories of the categorical variable.\n",
        "categories = df['category'].cat.categories\n",
        "print(f\"Categories: {categories}\")\n",
        "\n",
        "# 2. cat.codes: Returns the integer codes corresponding to the categories.\n",
        "codes = df['category'].cat.codes\n",
        "print(f\"Codes: {codes}\")\n",
        "\n",
        "# 3. cat.add_categories(new_categories): Adds new categories to the categorical variable.\n",
        "df['category'] = df['category'].cat.add_categories(['date', 'elderberry'])\n",
        "print(f\"Categories after adding: {df['category'].cat.categories}\")\n",
        "\n",
        "# 4. cat.remove_categories(categories_to_remove): Removes specified categories from the categorical variable.\n",
        "df['category'] = df['category'].cat.remove_categories(['date'])\n",
        "print(f\"Categories after removing: {df['category'].cat.categories}\")\n",
        "\n",
        "# 5. cat.rename_categories(new_categories): Renames the categories.\n",
        "df['category'] = df['category'].cat.rename_categories(['fruit1', 'fruit2', 'fruit3', 'fruit4'])\n",
        "print(f\"Categories after renaming: {df['category'].cat.categories}\")\n",
        "\n",
        "# 6. cat.reorder_categories(new_order): Reorders the categories.\n",
        "df['category'] = df['category'].cat.reorder_categories(['fruit4', 'fruit3', 'fruit2', 'fruit1'])\n",
        "print(f\"Categories after reordering: {df['category'].cat.categories}\")\n",
        "\n",
        "# 7. cat.set_categories(new_categories, ordered=False): Sets the categories and their order.\n",
        "df['category'] = df['category'].cat.set_categories(['fruit1', 'fruit2', 'fruit3', 'fruit4'], ordered=True)\n",
        "print(f\"Categories after setting order: {df['category'].cat.categories}\")\n",
        "\n",
        "# 8. cat.ordered: Checks if the categorical variable is ordered.\n",
        "is_ordered = df['category'].cat.ordered\n",
        "print(f\"Is ordered: {is_ordered}\")\n",
        "\n",
        "# 9. cat.as_ordered(): Converts the categorical variable to an ordered categorical variable.\n",
        "df['category'] = df['category'].cat.as_ordered()\n",
        "print(f\"Is ordered after as_ordered: {df['category'].cat.ordered}\")\n",
        "\n",
        "# 10. cat.as_unordered(): Converts the categorical variable to an unordered categorical variable.\n",
        "df['category'] = df['category'].cat.as_unordered()\n",
        "print(f\"Is ordered after as_unordered: {df['category'].cat.ordered}\")\n"
      ],
      "metadata": {
        "colab": {
          "base_uri": "https://localhost:8080/"
        },
        "id": "VLBlBkFKzor7",
        "outputId": "60cc8f3a-e342-482a-b8cc-e8745659ca5d"
      },
      "execution_count": null,
      "outputs": [
        {
          "output_type": "stream",
          "name": "stdout",
          "text": [
            "Categories: Index(['apple', 'banana', 'cherry'], dtype='object')\n",
            "Codes: 0    0\n",
            "1    1\n",
            "2    2\n",
            "3    0\n",
            "4    1\n",
            "dtype: int8\n",
            "Categories after adding: Index(['apple', 'banana', 'cherry', 'date', 'elderberry'], dtype='object')\n",
            "Categories after removing: Index(['apple', 'banana', 'cherry', 'elderberry'], dtype='object')\n",
            "Categories after renaming: Index(['fruit1', 'fruit2', 'fruit3', 'fruit4'], dtype='object')\n",
            "Categories after reordering: Index(['fruit4', 'fruit3', 'fruit2', 'fruit1'], dtype='object')\n",
            "Categories after setting order: Index(['fruit1', 'fruit2', 'fruit3', 'fruit4'], dtype='object')\n",
            "Is ordered: True\n",
            "Is ordered after as_ordered: True\n",
            "Is ordered after as_unordered: False\n"
          ]
        }
      ]
    }
  ]
}